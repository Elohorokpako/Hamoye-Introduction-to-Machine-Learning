{
 "cells": [
  {
   "cell_type": "code",
   "execution_count": 1,
   "id": "d7ec66a6",
   "metadata": {},
   "outputs": [],
   "source": [
    "import pandas as pd\n",
    "import numpy as np\n",
    "from sklearn.model_selection import train_test_split\n",
    "from sklearn.preprocessing import StandardScaler, OneHotEncoder\n",
    "from sklearn.ensemble import ExtraTreesClassifier, RandomForestClassifier\n",
    "import xgboost as xgb\n",
    "import lightgbm as lgb"
   ]
  },
  {
   "cell_type": "code",
   "execution_count": 17,
   "id": "c6a7b2a9",
   "metadata": {},
   "outputs": [
    {
     "data": {
      "text/html": [
       "<div>\n",
       "<style scoped>\n",
       "    .dataframe tbody tr th:only-of-type {\n",
       "        vertical-align: middle;\n",
       "    }\n",
       "\n",
       "    .dataframe tbody tr th {\n",
       "        vertical-align: top;\n",
       "    }\n",
       "\n",
       "    .dataframe thead th {\n",
       "        text-align: right;\n",
       "    }\n",
       "</style>\n",
       "<table border=\"1\" class=\"dataframe\">\n",
       "  <thead>\n",
       "    <tr style=\"text-align: right;\">\n",
       "      <th></th>\n",
       "      <th>customerID</th>\n",
       "      <th>gender</th>\n",
       "      <th>SeniorCitizen</th>\n",
       "      <th>Partner</th>\n",
       "      <th>Dependents</th>\n",
       "      <th>tenure</th>\n",
       "      <th>PhoneService</th>\n",
       "      <th>MultipleLines</th>\n",
       "      <th>InternetService</th>\n",
       "      <th>OnlineSecurity</th>\n",
       "      <th>...</th>\n",
       "      <th>DeviceProtection</th>\n",
       "      <th>TechSupport</th>\n",
       "      <th>StreamingTV</th>\n",
       "      <th>StreamingMovies</th>\n",
       "      <th>Contract</th>\n",
       "      <th>PaperlessBilling</th>\n",
       "      <th>PaymentMethod</th>\n",
       "      <th>MonthlyCharges</th>\n",
       "      <th>TotalCharges</th>\n",
       "      <th>Churn</th>\n",
       "    </tr>\n",
       "  </thead>\n",
       "  <tbody>\n",
       "    <tr>\n",
       "      <th>0</th>\n",
       "      <td>7590-VHVEG</td>\n",
       "      <td>Female</td>\n",
       "      <td>0</td>\n",
       "      <td>Yes</td>\n",
       "      <td>No</td>\n",
       "      <td>1</td>\n",
       "      <td>No</td>\n",
       "      <td>No phone service</td>\n",
       "      <td>DSL</td>\n",
       "      <td>No</td>\n",
       "      <td>...</td>\n",
       "      <td>No</td>\n",
       "      <td>No</td>\n",
       "      <td>No</td>\n",
       "      <td>No</td>\n",
       "      <td>Month-to-month</td>\n",
       "      <td>Yes</td>\n",
       "      <td>Electronic check</td>\n",
       "      <td>29.85</td>\n",
       "      <td>29.85</td>\n",
       "      <td>No</td>\n",
       "    </tr>\n",
       "    <tr>\n",
       "      <th>1</th>\n",
       "      <td>5575-GNVDE</td>\n",
       "      <td>Male</td>\n",
       "      <td>0</td>\n",
       "      <td>No</td>\n",
       "      <td>No</td>\n",
       "      <td>34</td>\n",
       "      <td>Yes</td>\n",
       "      <td>No</td>\n",
       "      <td>DSL</td>\n",
       "      <td>Yes</td>\n",
       "      <td>...</td>\n",
       "      <td>Yes</td>\n",
       "      <td>No</td>\n",
       "      <td>No</td>\n",
       "      <td>No</td>\n",
       "      <td>One year</td>\n",
       "      <td>No</td>\n",
       "      <td>Mailed check</td>\n",
       "      <td>56.95</td>\n",
       "      <td>1889.5</td>\n",
       "      <td>No</td>\n",
       "    </tr>\n",
       "    <tr>\n",
       "      <th>2</th>\n",
       "      <td>3668-QPYBK</td>\n",
       "      <td>Male</td>\n",
       "      <td>0</td>\n",
       "      <td>No</td>\n",
       "      <td>No</td>\n",
       "      <td>2</td>\n",
       "      <td>Yes</td>\n",
       "      <td>No</td>\n",
       "      <td>DSL</td>\n",
       "      <td>Yes</td>\n",
       "      <td>...</td>\n",
       "      <td>No</td>\n",
       "      <td>No</td>\n",
       "      <td>No</td>\n",
       "      <td>No</td>\n",
       "      <td>Month-to-month</td>\n",
       "      <td>Yes</td>\n",
       "      <td>Mailed check</td>\n",
       "      <td>53.85</td>\n",
       "      <td>108.15</td>\n",
       "      <td>Yes</td>\n",
       "    </tr>\n",
       "    <tr>\n",
       "      <th>3</th>\n",
       "      <td>7795-CFOCW</td>\n",
       "      <td>Male</td>\n",
       "      <td>0</td>\n",
       "      <td>No</td>\n",
       "      <td>No</td>\n",
       "      <td>45</td>\n",
       "      <td>No</td>\n",
       "      <td>No phone service</td>\n",
       "      <td>DSL</td>\n",
       "      <td>Yes</td>\n",
       "      <td>...</td>\n",
       "      <td>Yes</td>\n",
       "      <td>Yes</td>\n",
       "      <td>No</td>\n",
       "      <td>No</td>\n",
       "      <td>One year</td>\n",
       "      <td>No</td>\n",
       "      <td>Bank transfer (automatic)</td>\n",
       "      <td>42.30</td>\n",
       "      <td>1840.75</td>\n",
       "      <td>No</td>\n",
       "    </tr>\n",
       "    <tr>\n",
       "      <th>4</th>\n",
       "      <td>9237-HQITU</td>\n",
       "      <td>Female</td>\n",
       "      <td>0</td>\n",
       "      <td>No</td>\n",
       "      <td>No</td>\n",
       "      <td>2</td>\n",
       "      <td>Yes</td>\n",
       "      <td>No</td>\n",
       "      <td>Fiber optic</td>\n",
       "      <td>No</td>\n",
       "      <td>...</td>\n",
       "      <td>No</td>\n",
       "      <td>No</td>\n",
       "      <td>No</td>\n",
       "      <td>No</td>\n",
       "      <td>Month-to-month</td>\n",
       "      <td>Yes</td>\n",
       "      <td>Electronic check</td>\n",
       "      <td>70.70</td>\n",
       "      <td>151.65</td>\n",
       "      <td>Yes</td>\n",
       "    </tr>\n",
       "  </tbody>\n",
       "</table>\n",
       "<p>5 rows × 21 columns</p>\n",
       "</div>"
      ],
      "text/plain": [
       "   customerID  gender  SeniorCitizen Partner Dependents  tenure PhoneService  \\\n",
       "0  7590-VHVEG  Female              0     Yes         No       1           No   \n",
       "1  5575-GNVDE    Male              0      No         No      34          Yes   \n",
       "2  3668-QPYBK    Male              0      No         No       2          Yes   \n",
       "3  7795-CFOCW    Male              0      No         No      45           No   \n",
       "4  9237-HQITU  Female              0      No         No       2          Yes   \n",
       "\n",
       "      MultipleLines InternetService OnlineSecurity  ... DeviceProtection  \\\n",
       "0  No phone service             DSL             No  ...               No   \n",
       "1                No             DSL            Yes  ...              Yes   \n",
       "2                No             DSL            Yes  ...               No   \n",
       "3  No phone service             DSL            Yes  ...              Yes   \n",
       "4                No     Fiber optic             No  ...               No   \n",
       "\n",
       "  TechSupport StreamingTV StreamingMovies        Contract PaperlessBilling  \\\n",
       "0          No          No              No  Month-to-month              Yes   \n",
       "1          No          No              No        One year               No   \n",
       "2          No          No              No  Month-to-month              Yes   \n",
       "3         Yes          No              No        One year               No   \n",
       "4          No          No              No  Month-to-month              Yes   \n",
       "\n",
       "               PaymentMethod MonthlyCharges  TotalCharges Churn  \n",
       "0           Electronic check          29.85         29.85    No  \n",
       "1               Mailed check          56.95        1889.5    No  \n",
       "2               Mailed check          53.85        108.15   Yes  \n",
       "3  Bank transfer (automatic)          42.30       1840.75    No  \n",
       "4           Electronic check          70.70        151.65   Yes  \n",
       "\n",
       "[5 rows x 21 columns]"
      ]
     },
     "execution_count": 17,
     "metadata": {},
     "output_type": "execute_result"
    }
   ],
   "source": [
    "df=pd.read_csv('telecom_customer.csv')\n",
    "\n",
    "df.head()"
   ]
  },
  {
   "cell_type": "markdown",
   "id": "45262c88",
   "metadata": {},
   "source": [
    "## TODO:\n",
    "Preprocessing:\n",
    "\n",
    "Perform initial data preparation by converting the 'TotalCharges' column to numeric values and filling missing values with 0.\n",
    "\n",
    "Convert the 'Churn' column to binary values, where 'No' is mapped to 0 and 'Yes' is mapped to 1.<br>\n",
    "\n",
    "Split the data into an 80-20 train-test split with a random state of “1”.<br>\n",
    "\n",
    "Select these features:  \n",
    "`categorical` = ['gender', 'SeniorCitizen', 'Partner', 'Dependents', 'PhoneService', 'MultipleLines', 'InternetService','OnlineSecurity', 'OnlineBackup', 'DeviceProtection', 'TechSupport', 'StreamingTV', 'StreamingMovies','Contract', 'PaperlessBilling', 'PaymentMethod']\n",
    "\n",
    "`numerical` = ['tenure', 'MonthlyCharges', 'TotalCharges']<br>"
   ]
  },
  {
   "cell_type": "code",
   "execution_count": 18,
   "id": "711fab19",
   "metadata": {
    "scrolled": true
   },
   "outputs": [],
   "source": [
    "df['TotalCharges']=df['TotalCharges'].replace(' ',np.nan).astype('float')"
   ]
  },
  {
   "cell_type": "code",
   "execution_count": 19,
   "id": "d99da76f",
   "metadata": {},
   "outputs": [],
   "source": [
    "df['Churn']=df['Churn'].replace(['No','Yes'],[0,1]).astype('int')"
   ]
  },
  {
   "cell_type": "code",
   "execution_count": 20,
   "id": "b94c61de",
   "metadata": {},
   "outputs": [],
   "source": [
    "X=df.drop(columns=['customerID','Churn'])\n",
    "y=df['Churn']"
   ]
  },
  {
   "cell_type": "code",
   "execution_count": 21,
   "id": "24ddac4a",
   "metadata": {},
   "outputs": [],
   "source": [
    "df=df.fillna(0)"
   ]
  },
  {
   "cell_type": "code",
   "execution_count": 22,
   "id": "7259fda5",
   "metadata": {},
   "outputs": [],
   "source": [
    "#split the training and test data set using 80-20, and a random state of 1\n",
    "X_train, X_test, y_train, y_test=train_test_split(X,y,test_size=.2, random_state=1)"
   ]
  },
  {
   "cell_type": "code",
   "execution_count": 23,
   "id": "7f48bfe2",
   "metadata": {},
   "outputs": [
    {
     "name": "stdout",
     "output_type": "stream",
     "text": [
      "train data shape (5634, 19)\n",
      "test data shape (1409, 19)\n"
     ]
    }
   ],
   "source": [
    "print('train data shape',X_train.shape)\n",
    "print('test data shape',X_test.shape)"
   ]
  },
  {
   "cell_type": "markdown",
   "id": "09ed3164",
   "metadata": {},
   "source": [
    "## Feature engineering:\n",
    "The numerical features should be scaled using StandardScaler, convert the output back to a dataframe and put back the column names.\n",
    "\n",
    "The categorical features are one-hot encoded using OneHotEncoder(set sparse_output to false), convert the output back to a dataframe and put back the column names.\n",
    "\n",
    "Combine scaled numerical and one-hot encoded categorical features into train and test set dataframes (use pd.concat)\n",
    "\n",
    "Use scikit learn to train a random forest and extra trees classifier, and use xgboost and lightgbm to train an extreme boosting model and a light gradient boosting model. Use random_state = 1 for training all models and evaluate on the test set. Answer the following questions:"
   ]
  },
  {
   "cell_type": "code",
   "execution_count": 24,
   "id": "e6b6caec",
   "metadata": {},
   "outputs": [],
   "source": [
    "numerical = ['tenure', 'MonthlyCharges', 'TotalCharges']"
   ]
  },
  {
   "cell_type": "code",
   "execution_count": 25,
   "id": "ded02868",
   "metadata": {},
   "outputs": [],
   "source": [
    "#scale numerical values for training dataset\n",
    "scaler=StandardScaler()\n",
    "\n",
    "X_numerical=X_train[numerical]\n",
    "scaler.fit(X_numerical)\n",
    "\n",
    "scaled_X_train=scaler.transform(X_numerical)"
   ]
  },
  {
   "cell_type": "code",
   "execution_count": 26,
   "id": "1bd399c2",
   "metadata": {},
   "outputs": [],
   "source": [
    "categorical = ['gender', 'SeniorCitizen', 'Partner', 'Dependents', 'PhoneService', \n",
    "               'MultipleLines', 'InternetService','OnlineSecurity', 'OnlineBackup', \n",
    "               'DeviceProtection', 'TechSupport', 'StreamingTV', \n",
    "               'StreamingMovies','Contract', 'PaperlessBilling', 'PaymentMethod']"
   ]
  },
  {
   "cell_type": "code",
   "execution_count": 27,
   "id": "0a683d12",
   "metadata": {},
   "outputs": [],
   "source": [
    "#encode categorical values for testing dataset\n",
    "encoder=OneHotEncoder(sparse=False)\n",
    "\n",
    "X_categorical=X_train[categorical]\n",
    "encoder.fit(X_categorical)\n",
    "\n",
    "encoded_X_train=encoder.transform(X_categorical)"
   ]
  },
  {
   "cell_type": "code",
   "execution_count": 28,
   "id": "19a55ea9",
   "metadata": {},
   "outputs": [
    {
     "data": {
      "text/html": [
       "<div>\n",
       "<style scoped>\n",
       "    .dataframe tbody tr th:only-of-type {\n",
       "        vertical-align: middle;\n",
       "    }\n",
       "\n",
       "    .dataframe tbody tr th {\n",
       "        vertical-align: top;\n",
       "    }\n",
       "\n",
       "    .dataframe thead th {\n",
       "        text-align: right;\n",
       "    }\n",
       "</style>\n",
       "<table border=\"1\" class=\"dataframe\">\n",
       "  <thead>\n",
       "    <tr style=\"text-align: right;\">\n",
       "      <th></th>\n",
       "      <th>tenure</th>\n",
       "      <th>MonthlyCharges</th>\n",
       "      <th>TotalCharges</th>\n",
       "      <th>gender_Female</th>\n",
       "      <th>gender_Male</th>\n",
       "      <th>SeniorCitizen_0</th>\n",
       "      <th>SeniorCitizen_1</th>\n",
       "      <th>Partner_No</th>\n",
       "      <th>Partner_Yes</th>\n",
       "      <th>Dependents_No</th>\n",
       "      <th>...</th>\n",
       "      <th>StreamingMovies_Yes</th>\n",
       "      <th>Contract_Month-to-month</th>\n",
       "      <th>Contract_One year</th>\n",
       "      <th>Contract_Two year</th>\n",
       "      <th>PaperlessBilling_No</th>\n",
       "      <th>PaperlessBilling_Yes</th>\n",
       "      <th>PaymentMethod_Bank transfer (automatic)</th>\n",
       "      <th>PaymentMethod_Credit card (automatic)</th>\n",
       "      <th>PaymentMethod_Electronic check</th>\n",
       "      <th>PaymentMethod_Mailed check</th>\n",
       "    </tr>\n",
       "  </thead>\n",
       "  <tbody>\n",
       "    <tr>\n",
       "      <th>0</th>\n",
       "      <td>-0.825884</td>\n",
       "      <td>-1.497530</td>\n",
       "      <td>-0.892383</td>\n",
       "      <td>0.0</td>\n",
       "      <td>1.0</td>\n",
       "      <td>1.0</td>\n",
       "      <td>0.0</td>\n",
       "      <td>0.0</td>\n",
       "      <td>1.0</td>\n",
       "      <td>0.0</td>\n",
       "      <td>...</td>\n",
       "      <td>0.0</td>\n",
       "      <td>0.0</td>\n",
       "      <td>0.0</td>\n",
       "      <td>1.0</td>\n",
       "      <td>1.0</td>\n",
       "      <td>0.0</td>\n",
       "      <td>0.0</td>\n",
       "      <td>0.0</td>\n",
       "      <td>0.0</td>\n",
       "      <td>1.0</td>\n",
       "    </tr>\n",
       "    <tr>\n",
       "      <th>1</th>\n",
       "      <td>0.395961</td>\n",
       "      <td>0.302996</td>\n",
       "      <td>0.388267</td>\n",
       "      <td>1.0</td>\n",
       "      <td>0.0</td>\n",
       "      <td>1.0</td>\n",
       "      <td>0.0</td>\n",
       "      <td>1.0</td>\n",
       "      <td>0.0</td>\n",
       "      <td>1.0</td>\n",
       "      <td>...</td>\n",
       "      <td>1.0</td>\n",
       "      <td>0.0</td>\n",
       "      <td>1.0</td>\n",
       "      <td>0.0</td>\n",
       "      <td>1.0</td>\n",
       "      <td>0.0</td>\n",
       "      <td>0.0</td>\n",
       "      <td>1.0</td>\n",
       "      <td>0.0</td>\n",
       "      <td>0.0</td>\n",
       "    </tr>\n",
       "    <tr>\n",
       "      <th>2</th>\n",
       "      <td>1.577078</td>\n",
       "      <td>0.012320</td>\n",
       "      <td>1.059525</td>\n",
       "      <td>0.0</td>\n",
       "      <td>1.0</td>\n",
       "      <td>1.0</td>\n",
       "      <td>0.0</td>\n",
       "      <td>0.0</td>\n",
       "      <td>1.0</td>\n",
       "      <td>1.0</td>\n",
       "      <td>...</td>\n",
       "      <td>0.0</td>\n",
       "      <td>0.0</td>\n",
       "      <td>0.0</td>\n",
       "      <td>1.0</td>\n",
       "      <td>1.0</td>\n",
       "      <td>0.0</td>\n",
       "      <td>1.0</td>\n",
       "      <td>0.0</td>\n",
       "      <td>0.0</td>\n",
       "      <td>0.0</td>\n",
       "    </tr>\n",
       "    <tr>\n",
       "      <th>3</th>\n",
       "      <td>1.577078</td>\n",
       "      <td>0.686687</td>\n",
       "      <td>1.773983</td>\n",
       "      <td>0.0</td>\n",
       "      <td>1.0</td>\n",
       "      <td>1.0</td>\n",
       "      <td>0.0</td>\n",
       "      <td>0.0</td>\n",
       "      <td>1.0</td>\n",
       "      <td>0.0</td>\n",
       "      <td>...</td>\n",
       "      <td>1.0</td>\n",
       "      <td>0.0</td>\n",
       "      <td>1.0</td>\n",
       "      <td>0.0</td>\n",
       "      <td>1.0</td>\n",
       "      <td>0.0</td>\n",
       "      <td>0.0</td>\n",
       "      <td>0.0</td>\n",
       "      <td>1.0</td>\n",
       "      <td>0.0</td>\n",
       "    </tr>\n",
       "    <tr>\n",
       "      <th>4</th>\n",
       "      <td>-0.092777</td>\n",
       "      <td>0.186726</td>\n",
       "      <td>-0.104101</td>\n",
       "      <td>0.0</td>\n",
       "      <td>1.0</td>\n",
       "      <td>1.0</td>\n",
       "      <td>0.0</td>\n",
       "      <td>1.0</td>\n",
       "      <td>0.0</td>\n",
       "      <td>1.0</td>\n",
       "      <td>...</td>\n",
       "      <td>0.0</td>\n",
       "      <td>0.0</td>\n",
       "      <td>1.0</td>\n",
       "      <td>0.0</td>\n",
       "      <td>1.0</td>\n",
       "      <td>0.0</td>\n",
       "      <td>0.0</td>\n",
       "      <td>0.0</td>\n",
       "      <td>1.0</td>\n",
       "      <td>0.0</td>\n",
       "    </tr>\n",
       "  </tbody>\n",
       "</table>\n",
       "<p>5 rows × 46 columns</p>\n",
       "</div>"
      ],
      "text/plain": [
       "     tenure  MonthlyCharges  TotalCharges  gender_Female  gender_Male  \\\n",
       "0 -0.825884       -1.497530     -0.892383            0.0          1.0   \n",
       "1  0.395961        0.302996      0.388267            1.0          0.0   \n",
       "2  1.577078        0.012320      1.059525            0.0          1.0   \n",
       "3  1.577078        0.686687      1.773983            0.0          1.0   \n",
       "4 -0.092777        0.186726     -0.104101            0.0          1.0   \n",
       "\n",
       "   SeniorCitizen_0  SeniorCitizen_1  Partner_No  Partner_Yes  Dependents_No  \\\n",
       "0              1.0              0.0         0.0          1.0            0.0   \n",
       "1              1.0              0.0         1.0          0.0            1.0   \n",
       "2              1.0              0.0         0.0          1.0            1.0   \n",
       "3              1.0              0.0         0.0          1.0            0.0   \n",
       "4              1.0              0.0         1.0          0.0            1.0   \n",
       "\n",
       "   ...  StreamingMovies_Yes  Contract_Month-to-month  Contract_One year  \\\n",
       "0  ...                  0.0                      0.0                0.0   \n",
       "1  ...                  1.0                      0.0                1.0   \n",
       "2  ...                  0.0                      0.0                0.0   \n",
       "3  ...                  1.0                      0.0                1.0   \n",
       "4  ...                  0.0                      0.0                1.0   \n",
       "\n",
       "   Contract_Two year  PaperlessBilling_No  PaperlessBilling_Yes  \\\n",
       "0                1.0                  1.0                   0.0   \n",
       "1                0.0                  1.0                   0.0   \n",
       "2                1.0                  1.0                   0.0   \n",
       "3                0.0                  1.0                   0.0   \n",
       "4                0.0                  1.0                   0.0   \n",
       "\n",
       "   PaymentMethod_Bank transfer (automatic)  \\\n",
       "0                                      0.0   \n",
       "1                                      0.0   \n",
       "2                                      1.0   \n",
       "3                                      0.0   \n",
       "4                                      0.0   \n",
       "\n",
       "   PaymentMethod_Credit card (automatic)  PaymentMethod_Electronic check  \\\n",
       "0                                    0.0                             0.0   \n",
       "1                                    1.0                             0.0   \n",
       "2                                    0.0                             0.0   \n",
       "3                                    0.0                             1.0   \n",
       "4                                    0.0                             1.0   \n",
       "\n",
       "   PaymentMethod_Mailed check  \n",
       "0                         1.0  \n",
       "1                         0.0  \n",
       "2                         0.0  \n",
       "3                         0.0  \n",
       "4                         0.0  \n",
       "\n",
       "[5 rows x 46 columns]"
      ]
     },
     "execution_count": 28,
     "metadata": {},
     "output_type": "execute_result"
    }
   ],
   "source": [
    "#convert the encoded and scaled dataset into a dataframe and concatenate them into one dataframe\n",
    "\n",
    "numeric_train=pd.DataFrame(scaled_X_train,columns=X_numerical.columns)\n",
    "\n",
    "# Create a DataFrame with column names\n",
    "encoded_df = pd.DataFrame(encoded_X_train, columns=encoder.\n",
    "                          get_feature_names_out(input_features=X_categorical.columns))\n",
    "\n",
    "\n",
    "X_train_ready = pd.concat([numeric_train, encoded_df], axis=1)\n",
    "\n",
    "X_train_ready.head()"
   ]
  },
  {
   "cell_type": "code",
   "execution_count": 30,
   "id": "23775b07",
   "metadata": {
    "scrolled": true
   },
   "outputs": [],
   "source": [
    "#fill missing values with 0\n",
    "X_train_ready=X_train_ready.fillna(0)"
   ]
  },
  {
   "cell_type": "code",
   "execution_count": 31,
   "id": "b323b7ab",
   "metadata": {},
   "outputs": [],
   "source": [
    "#perform similar operation for X_test\n",
    "X_test_numerical=X_test[numerical]\n",
    "\n",
    "scaled_X_test=scaler.transform(X_test_numerical)"
   ]
  },
  {
   "cell_type": "code",
   "execution_count": 32,
   "id": "c80a1d4b",
   "metadata": {},
   "outputs": [],
   "source": [
    "X_test_categorical=X_test[categorical]\n",
    "\n",
    "encoded_X_test=encoder.transform(X_test_categorical)"
   ]
  },
  {
   "cell_type": "code",
   "execution_count": 33,
   "id": "f5a2e0b5",
   "metadata": {},
   "outputs": [
    {
     "data": {
      "text/html": [
       "<div>\n",
       "<style scoped>\n",
       "    .dataframe tbody tr th:only-of-type {\n",
       "        vertical-align: middle;\n",
       "    }\n",
       "\n",
       "    .dataframe tbody tr th {\n",
       "        vertical-align: top;\n",
       "    }\n",
       "\n",
       "    .dataframe thead th {\n",
       "        text-align: right;\n",
       "    }\n",
       "</style>\n",
       "<table border=\"1\" class=\"dataframe\">\n",
       "  <thead>\n",
       "    <tr style=\"text-align: right;\">\n",
       "      <th></th>\n",
       "      <th>tenure</th>\n",
       "      <th>MonthlyCharges</th>\n",
       "      <th>TotalCharges</th>\n",
       "      <th>gender_Female</th>\n",
       "      <th>gender_Male</th>\n",
       "      <th>SeniorCitizen_0</th>\n",
       "      <th>SeniorCitizen_1</th>\n",
       "      <th>Partner_No</th>\n",
       "      <th>Partner_Yes</th>\n",
       "      <th>Dependents_No</th>\n",
       "      <th>...</th>\n",
       "      <th>StreamingMovies_Yes</th>\n",
       "      <th>Contract_Month-to-month</th>\n",
       "      <th>Contract_One year</th>\n",
       "      <th>Contract_Two year</th>\n",
       "      <th>PaperlessBilling_No</th>\n",
       "      <th>PaperlessBilling_Yes</th>\n",
       "      <th>PaymentMethod_Bank transfer (automatic)</th>\n",
       "      <th>PaymentMethod_Credit card (automatic)</th>\n",
       "      <th>PaymentMethod_Electronic check</th>\n",
       "      <th>PaymentMethod_Mailed check</th>\n",
       "    </tr>\n",
       "  </thead>\n",
       "  <tbody>\n",
       "    <tr>\n",
       "      <th>0</th>\n",
       "      <td>0.355233</td>\n",
       "      <td>0.500655</td>\n",
       "      <td>0.458958</td>\n",
       "      <td>1.0</td>\n",
       "      <td>0.0</td>\n",
       "      <td>1.0</td>\n",
       "      <td>0.0</td>\n",
       "      <td>1.0</td>\n",
       "      <td>0.0</td>\n",
       "      <td>1.0</td>\n",
       "      <td>...</td>\n",
       "      <td>1.0</td>\n",
       "      <td>0.0</td>\n",
       "      <td>1.0</td>\n",
       "      <td>0.0</td>\n",
       "      <td>0.0</td>\n",
       "      <td>1.0</td>\n",
       "      <td>1.0</td>\n",
       "      <td>0.0</td>\n",
       "      <td>0.0</td>\n",
       "      <td>0.0</td>\n",
       "    </tr>\n",
       "    <tr>\n",
       "      <th>1</th>\n",
       "      <td>1.373437</td>\n",
       "      <td>1.249767</td>\n",
       "      <td>1.849440</td>\n",
       "      <td>1.0</td>\n",
       "      <td>0.0</td>\n",
       "      <td>0.0</td>\n",
       "      <td>1.0</td>\n",
       "      <td>1.0</td>\n",
       "      <td>0.0</td>\n",
       "      <td>1.0</td>\n",
       "      <td>...</td>\n",
       "      <td>1.0</td>\n",
       "      <td>0.0</td>\n",
       "      <td>0.0</td>\n",
       "      <td>1.0</td>\n",
       "      <td>0.0</td>\n",
       "      <td>1.0</td>\n",
       "      <td>1.0</td>\n",
       "      <td>0.0</td>\n",
       "      <td>0.0</td>\n",
       "      <td>0.0</td>\n",
       "    </tr>\n",
       "    <tr>\n",
       "      <th>2</th>\n",
       "      <td>-0.825884</td>\n",
       "      <td>-0.657063</td>\n",
       "      <td>-0.775006</td>\n",
       "      <td>1.0</td>\n",
       "      <td>0.0</td>\n",
       "      <td>1.0</td>\n",
       "      <td>0.0</td>\n",
       "      <td>1.0</td>\n",
       "      <td>0.0</td>\n",
       "      <td>1.0</td>\n",
       "      <td>...</td>\n",
       "      <td>0.0</td>\n",
       "      <td>1.0</td>\n",
       "      <td>0.0</td>\n",
       "      <td>0.0</td>\n",
       "      <td>0.0</td>\n",
       "      <td>1.0</td>\n",
       "      <td>1.0</td>\n",
       "      <td>0.0</td>\n",
       "      <td>0.0</td>\n",
       "      <td>0.0</td>\n",
       "    </tr>\n",
       "    <tr>\n",
       "      <th>3</th>\n",
       "      <td>-1.110981</td>\n",
       "      <td>-0.471031</td>\n",
       "      <td>-0.896090</td>\n",
       "      <td>1.0</td>\n",
       "      <td>0.0</td>\n",
       "      <td>1.0</td>\n",
       "      <td>0.0</td>\n",
       "      <td>1.0</td>\n",
       "      <td>0.0</td>\n",
       "      <td>1.0</td>\n",
       "      <td>...</td>\n",
       "      <td>0.0</td>\n",
       "      <td>1.0</td>\n",
       "      <td>0.0</td>\n",
       "      <td>0.0</td>\n",
       "      <td>0.0</td>\n",
       "      <td>1.0</td>\n",
       "      <td>0.0</td>\n",
       "      <td>0.0</td>\n",
       "      <td>0.0</td>\n",
       "      <td>1.0</td>\n",
       "    </tr>\n",
       "    <tr>\n",
       "      <th>4</th>\n",
       "      <td>-0.907340</td>\n",
       "      <td>0.037235</td>\n",
       "      <td>-0.715125</td>\n",
       "      <td>1.0</td>\n",
       "      <td>0.0</td>\n",
       "      <td>1.0</td>\n",
       "      <td>0.0</td>\n",
       "      <td>0.0</td>\n",
       "      <td>1.0</td>\n",
       "      <td>0.0</td>\n",
       "      <td>...</td>\n",
       "      <td>1.0</td>\n",
       "      <td>0.0</td>\n",
       "      <td>1.0</td>\n",
       "      <td>0.0</td>\n",
       "      <td>0.0</td>\n",
       "      <td>1.0</td>\n",
       "      <td>0.0</td>\n",
       "      <td>0.0</td>\n",
       "      <td>0.0</td>\n",
       "      <td>1.0</td>\n",
       "    </tr>\n",
       "  </tbody>\n",
       "</table>\n",
       "<p>5 rows × 46 columns</p>\n",
       "</div>"
      ],
      "text/plain": [
       "     tenure  MonthlyCharges  TotalCharges  gender_Female  gender_Male  \\\n",
       "0  0.355233        0.500655      0.458958            1.0          0.0   \n",
       "1  1.373437        1.249767      1.849440            1.0          0.0   \n",
       "2 -0.825884       -0.657063     -0.775006            1.0          0.0   \n",
       "3 -1.110981       -0.471031     -0.896090            1.0          0.0   \n",
       "4 -0.907340        0.037235     -0.715125            1.0          0.0   \n",
       "\n",
       "   SeniorCitizen_0  SeniorCitizen_1  Partner_No  Partner_Yes  Dependents_No  \\\n",
       "0              1.0              0.0         1.0          0.0            1.0   \n",
       "1              0.0              1.0         1.0          0.0            1.0   \n",
       "2              1.0              0.0         1.0          0.0            1.0   \n",
       "3              1.0              0.0         1.0          0.0            1.0   \n",
       "4              1.0              0.0         0.0          1.0            0.0   \n",
       "\n",
       "   ...  StreamingMovies_Yes  Contract_Month-to-month  Contract_One year  \\\n",
       "0  ...                  1.0                      0.0                1.0   \n",
       "1  ...                  1.0                      0.0                0.0   \n",
       "2  ...                  0.0                      1.0                0.0   \n",
       "3  ...                  0.0                      1.0                0.0   \n",
       "4  ...                  1.0                      0.0                1.0   \n",
       "\n",
       "   Contract_Two year  PaperlessBilling_No  PaperlessBilling_Yes  \\\n",
       "0                0.0                  0.0                   1.0   \n",
       "1                1.0                  0.0                   1.0   \n",
       "2                0.0                  0.0                   1.0   \n",
       "3                0.0                  0.0                   1.0   \n",
       "4                0.0                  0.0                   1.0   \n",
       "\n",
       "   PaymentMethod_Bank transfer (automatic)  \\\n",
       "0                                      1.0   \n",
       "1                                      1.0   \n",
       "2                                      1.0   \n",
       "3                                      0.0   \n",
       "4                                      0.0   \n",
       "\n",
       "   PaymentMethod_Credit card (automatic)  PaymentMethod_Electronic check  \\\n",
       "0                                    0.0                             0.0   \n",
       "1                                    0.0                             0.0   \n",
       "2                                    0.0                             0.0   \n",
       "3                                    0.0                             0.0   \n",
       "4                                    0.0                             0.0   \n",
       "\n",
       "   PaymentMethod_Mailed check  \n",
       "0                         0.0  \n",
       "1                         0.0  \n",
       "2                         0.0  \n",
       "3                         1.0  \n",
       "4                         1.0  \n",
       "\n",
       "[5 rows x 46 columns]"
      ]
     },
     "execution_count": 33,
     "metadata": {},
     "output_type": "execute_result"
    }
   ],
   "source": [
    "#convert the encoded and scaled dataset into a dataframe and concatenate them into one dataframe\n",
    "\n",
    "numeric_test=pd.DataFrame(scaled_X_test,columns=X_test_numerical.columns)\n",
    "\n",
    "# Create a DataFrame with column names\n",
    "encoded_test_df = pd.DataFrame(encoded_X_test, columns=encoder.\n",
    "                          get_feature_names_out(input_features=X_test_categorical.columns))\n",
    "\n",
    "\n",
    "X_test_ready = pd.concat([numeric_test, encoded_test_df], axis=1)\n",
    "\n",
    "X_test_ready.head()"
   ]
  },
  {
   "cell_type": "code",
   "execution_count": 35,
   "id": "cfa64c5e",
   "metadata": {},
   "outputs": [],
   "source": [
    "#fill missing values with 0\n",
    "X_test_ready=X_test_ready.fillna(0)"
   ]
  },
  {
   "cell_type": "code",
   "execution_count": 36,
   "id": "b78be800",
   "metadata": {
    "scrolled": true
   },
   "outputs": [
    {
     "data": {
      "text/plain": [
       "RandomForestClassifier(random_state=1)"
      ]
     },
     "execution_count": 36,
     "metadata": {},
     "output_type": "execute_result"
    }
   ],
   "source": [
    "#Train a random forest\n",
    "\n",
    "random_forest=RandomForestClassifier(random_state=1)\n",
    "\n",
    "#fit the model\n",
    "random_forest.fit(X_train_ready,y_train)"
   ]
  },
  {
   "cell_type": "code",
   "execution_count": 37,
   "id": "b4f851d2",
   "metadata": {},
   "outputs": [
    {
     "data": {
      "text/plain": [
       "0.9980475683351083"
      ]
     },
     "execution_count": 37,
     "metadata": {},
     "output_type": "execute_result"
    }
   ],
   "source": [
    "#evaluate random forest on training dataset\n",
    "random_forest.score(X_train_ready,y_train)"
   ]
  },
  {
   "cell_type": "markdown",
   "id": "aa83204a",
   "metadata": {},
   "source": [
    "### Q1: What is the accuracy on the test set using the random forest classifier?"
   ]
  },
  {
   "cell_type": "code",
   "execution_count": 38,
   "id": "9184f7d5",
   "metadata": {},
   "outputs": [
    {
     "data": {
      "text/plain": [
       "0.7927608232789212"
      ]
     },
     "execution_count": 38,
     "metadata": {},
     "output_type": "execute_result"
    }
   ],
   "source": [
    "#test accuracy\n",
    "random_forest.score(X_test_ready,y_test)"
   ]
  },
  {
   "cell_type": "code",
   "execution_count": 39,
   "id": "af8e709c",
   "metadata": {
    "scrolled": true
   },
   "outputs": [
    {
     "data": {
      "text/plain": [
       "ExtraTreesClassifier(random_state=1)"
      ]
     },
     "execution_count": 39,
     "metadata": {},
     "output_type": "execute_result"
    }
   ],
   "source": [
    "#train an ExtraTreesClassifier\n",
    "\n",
    "extra_tree=ExtraTreesClassifier(random_state=1)\n",
    "\n",
    "#fit the model\n",
    "extra_tree.fit(X_train_ready,y_train)"
   ]
  },
  {
   "cell_type": "code",
   "execution_count": 40,
   "id": "1d64d702",
   "metadata": {},
   "outputs": [
    {
     "data": {
      "text/plain": [
       "0.9980475683351083"
      ]
     },
     "execution_count": 40,
     "metadata": {},
     "output_type": "execute_result"
    }
   ],
   "source": [
    "#evaluate on training dataset\n",
    "extra_tree.score(X_train_ready,y_train)"
   ]
  },
  {
   "cell_type": "code",
   "execution_count": 41,
   "id": "f2499221",
   "metadata": {},
   "outputs": [
    {
     "data": {
      "text/plain": [
       "0.7721788502484032"
      ]
     },
     "execution_count": 41,
     "metadata": {},
     "output_type": "execute_result"
    }
   ],
   "source": [
    "#evaluate on test dataset\n",
    "extra_tree.score(X_test_ready,y_test)"
   ]
  },
  {
   "cell_type": "code",
   "execution_count": 45,
   "id": "72170046",
   "metadata": {},
   "outputs": [
    {
     "data": {
      "text/plain": [
       "XGBClassifier(base_score=None, booster=None, callbacks=None,\n",
       "              colsample_bylevel=None, colsample_bynode=None,\n",
       "              colsample_bytree=None, early_stopping_rounds=None,\n",
       "              enable_categorical=False, eval_metric=None, feature_types=None,\n",
       "              gamma=None, gpu_id=None, grow_policy=None, importance_type=None,\n",
       "              interaction_constraints=None, learning_rate=None, max_bin=None,\n",
       "              max_cat_threshold=None, max_cat_to_onehot=None,\n",
       "              max_delta_step=None, max_depth=None, max_leaves=None,\n",
       "              min_child_weight=None, missing=nan, monotone_constraints=None,\n",
       "              n_estimators=100, n_jobs=None, num_parallel_tree=None,\n",
       "              predictor=None, random_state=1, ...)"
      ]
     },
     "execution_count": 45,
     "metadata": {},
     "output_type": "execute_result"
    }
   ],
   "source": [
    "#train an xgbost model\n",
    "xgb=xgb.XGBClassifier(random_state=1)\n",
    "xgb.fit(X_train_ready, y_train)"
   ]
  },
  {
   "cell_type": "code",
   "execution_count": 46,
   "id": "03465205",
   "metadata": {},
   "outputs": [
    {
     "data": {
      "text/plain": [
       "0.938054668086617"
      ]
     },
     "execution_count": 46,
     "metadata": {},
     "output_type": "execute_result"
    }
   ],
   "source": [
    "#evaluate on training dataset\n",
    "xgb.score(X_train_ready,y_train)"
   ]
  },
  {
   "cell_type": "markdown",
   "id": "9ae9304a",
   "metadata": {},
   "source": [
    "### Q2: What is the accuracy on the test set using the xgboost classifier? "
   ]
  },
  {
   "cell_type": "code",
   "execution_count": 47,
   "id": "7df3aa7f",
   "metadata": {},
   "outputs": [
    {
     "data": {
      "text/plain": [
       "0.8005677785663591"
      ]
     },
     "execution_count": 47,
     "metadata": {},
     "output_type": "execute_result"
    }
   ],
   "source": [
    "#evaluate on test dataset\n",
    "xgb.score(X_test_ready,y_test)"
   ]
  },
  {
   "cell_type": "code",
   "execution_count": 48,
   "id": "8504ff1e",
   "metadata": {},
   "outputs": [
    {
     "data": {
      "text/plain": [
       "LGBMClassifier(random_state=1)"
      ]
     },
     "execution_count": 48,
     "metadata": {},
     "output_type": "execute_result"
    }
   ],
   "source": [
    "#train an lgb model\n",
    "lgb=lgb.LGBMClassifier(random_state=1)\n",
    "lgb.fit(X_train_ready, y_train)"
   ]
  },
  {
   "cell_type": "code",
   "execution_count": 49,
   "id": "4406e482",
   "metadata": {},
   "outputs": [
    {
     "data": {
      "text/plain": [
       "0.8768193113241036"
      ]
     },
     "execution_count": 49,
     "metadata": {},
     "output_type": "execute_result"
    }
   ],
   "source": [
    "#evaluate on training dataset\n",
    "lgb.score(X_train_ready,y_train)"
   ]
  },
  {
   "cell_type": "markdown",
   "id": "cb852a6a",
   "metadata": {},
   "source": [
    "### Q3: What is the accuracy on the test set using the LGBM classifier?"
   ]
  },
  {
   "cell_type": "code",
   "execution_count": 50,
   "id": "6a901410",
   "metadata": {
    "scrolled": false
   },
   "outputs": [
    {
     "data": {
      "text/plain": [
       "0.8069552874378992"
      ]
     },
     "execution_count": 50,
     "metadata": {},
     "output_type": "execute_result"
    }
   ],
   "source": [
    "#evaluate on test dataset\n",
    "lgb.score(X_test_ready,y_test)"
   ]
  },
  {
   "cell_type": "markdown",
   "id": "5e136ccd",
   "metadata": {},
   "source": [
    "### Q4"
   ]
  },
  {
   "cell_type": "markdown",
   "id": "da81d23f",
   "metadata": {},
   "source": [
    "To improve the Extra Trees Classifier, you will use the following parameters (number of estimators, minimum number of samples, minimum number of samples for leaf node and the number of features to consider when looking for the best split) for the hyperparameter grid needed to run a Randomized Cross Validation Search (RandomizedSearchCV). \n",
    "\n",
    "n_estimators = [50, 100, 300, 500, 1000]\n",
    "\n",
    "min_samples_split = [2, 3, 5, 7, 9]\n",
    "\n",
    "min_samples_leaf = [1, 2, 4, 6, 8]\n",
    "\n",
    "max_features = ['auto', 'sqrt', 'log2', None] \n",
    "\n",
    "hyperparameter_grid = {'n_estimators': n_estimators,\n",
    "\n",
    "                       'min_samples_leaf': min_samples_leaf,\n",
    "\n",
    "                       'min_samples_split': min_samples_split,\n",
    "\n",
    "                       'max_features': max_features}\n",
    "\n",
    "Using the ExtraTreesClassifier as your estimator with cv=5, n_iter=10, scoring = 'accuracy', n_jobs = -1, verbose = 1 and random_state = 1. What are the best hyperparameters from the randomized search CV?\n",
    "\n",
    "Options\n",
    "N_estimators = 1000 , min_samples_split = 2 , min_samples_leaf = 8, max_features = None\n",
    "\n",
    "N_estimators = 500 , min_samples_split = 2 , min_samples_leaf = 8, max_features = ‘log2‘\n",
    "\n",
    "N_estimators = 300 , min_samples_split = 5 , min_samples_leaf = 6, max_features = ‘auto’\n",
    "\n",
    "N_estimators = 1000 , min_samples_split = 9 , min_samples_leaf = 8, max_features = None"
   ]
  },
  {
   "cell_type": "code",
   "execution_count": 66,
   "id": "524fd3cc",
   "metadata": {},
   "outputs": [
    {
     "name": "stdout",
     "output_type": "stream",
     "text": [
      "Fitting 5 folds for each of 10 candidates, totalling 50 fits\n"
     ]
    }
   ],
   "source": [
    "from sklearn.model_selection import RandomizedSearchCV\n",
    "\n",
    "# Define the hyperparameter grid\n",
    "n_estimators = [50, 100, 300, 500, 1000]\n",
    "min_samples_split = [2, 3, 5, 7, 9]\n",
    "min_samples_leaf = [1, 2, 4, 6, 8]\n",
    "max_features = ['auto', 'sqrt', 'log2', None]\n",
    "\n",
    "hyperparameter_grid = {\n",
    "    'n_estimators': n_estimators,\n",
    "    'min_samples_leaf': min_samples_leaf,\n",
    "    'min_samples_split': min_samples_split,\n",
    "    'max_features': max_features\n",
    "}\n",
    "\n",
    "# Create an Extra Trees Classifier\n",
    "extra_trees = ExtraTreesClassifier(random_state=1)\n",
    "\n",
    "# Create a RandomizedSearchCV object\n",
    "random_search = RandomizedSearchCV(\n",
    "    extra_trees,  # Estimator\n",
    "    hyperparameter_grid,  # Hyperparameter grid\n",
    "    cv=5,  # Cross-validation with 5 folds\n",
    "    n_iter=10,  # Number of parameter settings to sample\n",
    "    scoring='accuracy',  # Evaluation metric\n",
    "    n_jobs=-1,  # Use all available CPU cores\n",
    "    verbose=1,  # Show progress\n",
    "    random_state=1  # Random seed for reproducibility\n",
    ")\n",
    "\n",
    "# Fit the RandomizedSearchCV on your data\n",
    "random_search.fit(X_train_ready, y_train)\n",
    "\n",
    "# Get the best hyperparameters\n",
    "best_hyperparameters = random_search.best_params_\n"
   ]
  },
  {
   "cell_type": "code",
   "execution_count": 67,
   "id": "aed304b1",
   "metadata": {},
   "outputs": [
    {
     "name": "stdout",
     "output_type": "stream",
     "text": [
      "{'n_estimators': 1000, 'min_samples_split': 9, 'min_samples_leaf': 8, 'max_features': 'sqrt'}\n"
     ]
    }
   ],
   "source": [
    "print(best_hyperparameters)"
   ]
  },
  {
   "cell_type": "markdown",
   "id": "7d317778",
   "metadata": {},
   "source": [
    "### Q5: \n",
    "Train a new ExtraTreesClassifier Model with the new Hyperparameters from the RandomizedSearchCV \n",
    "(with random_state = 1). Is the accuracy of the new optimal model higher or lower than the initial ExtraTreesClassifier model with no hyperparameter tuning?"
   ]
  },
  {
   "cell_type": "code",
   "execution_count": 68,
   "id": "7c80bcd7",
   "metadata": {},
   "outputs": [],
   "source": [
    "extra_tree=ExtraTreesClassifier(random_state=1,\n",
    "                               n_estimators=100,\n",
    "                               min_samples_split=9,\n",
    "                               min_samples_leaf=8,\n",
    "                               max_features='sqrt')"
   ]
  },
  {
   "cell_type": "code",
   "execution_count": 69,
   "id": "9c6a339a",
   "metadata": {},
   "outputs": [
    {
     "data": {
      "text/plain": [
       "ExtraTreesClassifier(max_features='sqrt', min_samples_leaf=8,\n",
       "                     min_samples_split=9, random_state=1)"
      ]
     },
     "execution_count": 69,
     "metadata": {},
     "output_type": "execute_result"
    }
   ],
   "source": [
    "extra_tree.fit(X_train_ready,y_train)"
   ]
  },
  {
   "cell_type": "code",
   "execution_count": 70,
   "id": "6e39ea01",
   "metadata": {},
   "outputs": [
    {
     "data": {
      "text/plain": [
       "0.8384806531771388"
      ]
     },
     "execution_count": 70,
     "metadata": {},
     "output_type": "execute_result"
    }
   ],
   "source": [
    "#score on the training dataset\n",
    "extra_tree.score(X_train_ready,y_train)"
   ]
  },
  {
   "cell_type": "code",
   "execution_count": 71,
   "id": "346ca16a",
   "metadata": {},
   "outputs": [
    {
     "data": {
      "text/plain": [
       "0.8041163946061036"
      ]
     },
     "execution_count": 71,
     "metadata": {},
     "output_type": "execute_result"
    }
   ],
   "source": [
    "#score on the test dataset\n",
    "extra_tree.score(X_test_ready,y_test)"
   ]
  },
  {
   "cell_type": "code",
   "execution_count": 72,
   "id": "102e6562",
   "metadata": {},
   "outputs": [],
   "source": [
    "#there was an improvement on the test dataset. The model is no longer overfitting on the training dataset"
   ]
  },
  {
   "cell_type": "markdown",
   "id": "5b9ac4fc",
   "metadata": {},
   "source": [
    "### Q6:\n",
    "Find the feature importance using the optimal ExtraTreesClassifier model. Which features are the two most important respectively?"
   ]
  },
  {
   "cell_type": "code",
   "execution_count": 76,
   "id": "5f3ef668",
   "metadata": {
    "scrolled": false
   },
   "outputs": [
    {
     "data": {
      "text/plain": [
       "Contract_Month-to-month        0.146798\n",
       "OnlineSecurity_No              0.087070\n",
       "tenure                         0.085165\n",
       "Contract_Two year              0.064490\n",
       "InternetService_Fiber optic    0.060689\n",
       "dtype: float64"
      ]
     },
     "execution_count": 76,
     "metadata": {},
     "output_type": "execute_result"
    }
   ],
   "source": [
    "pd.Series(extra_tree.feature_importances_,index=X_train_ready.columns).sort_values(ascending=False).head(5)"
   ]
  },
  {
   "cell_type": "code",
   "execution_count": null,
   "id": "b9816b8b",
   "metadata": {},
   "outputs": [],
   "source": []
  }
 ],
 "metadata": {
  "kernelspec": {
   "display_name": "Python 3 (ipykernel)",
   "language": "python",
   "name": "python3"
  },
  "language_info": {
   "codemirror_mode": {
    "name": "ipython",
    "version": 3
   },
   "file_extension": ".py",
   "mimetype": "text/x-python",
   "name": "python",
   "nbconvert_exporter": "python",
   "pygments_lexer": "ipython3",
   "version": "3.9.13"
  }
 },
 "nbformat": 4,
 "nbformat_minor": 5
}
