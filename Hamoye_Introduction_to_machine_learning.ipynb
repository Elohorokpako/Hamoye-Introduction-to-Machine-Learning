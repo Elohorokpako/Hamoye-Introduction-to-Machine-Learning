{
 "cells": [
  {
   "cell_type": "code",
   "execution_count": 66,
   "id": "0b00f318",
   "metadata": {},
   "outputs": [],
   "source": [
    "import pandas as pd"
   ]
  },
  {
   "cell_type": "code",
   "execution_count": 16,
   "id": "5e174e3d",
   "metadata": {},
   "outputs": [
    {
     "data": {
      "text/html": [
       "<div>\n",
       "<style scoped>\n",
       "    .dataframe tbody tr th:only-of-type {\n",
       "        vertical-align: middle;\n",
       "    }\n",
       "\n",
       "    .dataframe tbody tr th {\n",
       "        vertical-align: top;\n",
       "    }\n",
       "\n",
       "    .dataframe thead th {\n",
       "        text-align: right;\n",
       "    }\n",
       "</style>\n",
       "<table border=\"1\" class=\"dataframe\">\n",
       "  <thead>\n",
       "    <tr style=\"text-align: right;\">\n",
       "      <th></th>\n",
       "      <th>Area Code</th>\n",
       "      <th>Area</th>\n",
       "      <th>Item Code</th>\n",
       "      <th>Item</th>\n",
       "      <th>Element Code</th>\n",
       "      <th>Element</th>\n",
       "      <th>Unit</th>\n",
       "      <th>Y2014</th>\n",
       "      <th>Y2015</th>\n",
       "      <th>Y2016</th>\n",
       "      <th>Y2017</th>\n",
       "      <th>Y2018</th>\n",
       "    </tr>\n",
       "  </thead>\n",
       "  <tbody>\n",
       "    <tr>\n",
       "      <th>0</th>\n",
       "      <td>4</td>\n",
       "      <td>Algeria</td>\n",
       "      <td>2501</td>\n",
       "      <td>Population</td>\n",
       "      <td>511</td>\n",
       "      <td>Total Population - Both sexes</td>\n",
       "      <td>1000 persons</td>\n",
       "      <td>38924.00</td>\n",
       "      <td>39728.00</td>\n",
       "      <td>40551.00</td>\n",
       "      <td>41389.00</td>\n",
       "      <td>42228.00</td>\n",
       "    </tr>\n",
       "    <tr>\n",
       "      <th>1</th>\n",
       "      <td>4</td>\n",
       "      <td>Algeria</td>\n",
       "      <td>2501</td>\n",
       "      <td>Population</td>\n",
       "      <td>5301</td>\n",
       "      <td>Domestic supply quantity</td>\n",
       "      <td>1000 tonnes</td>\n",
       "      <td>0.00</td>\n",
       "      <td>0.00</td>\n",
       "      <td>0.00</td>\n",
       "      <td>0.00</td>\n",
       "      <td>0.00</td>\n",
       "    </tr>\n",
       "    <tr>\n",
       "      <th>2</th>\n",
       "      <td>4</td>\n",
       "      <td>Algeria</td>\n",
       "      <td>2901</td>\n",
       "      <td>Grand Total</td>\n",
       "      <td>664</td>\n",
       "      <td>Food supply (kcal/capita/day)</td>\n",
       "      <td>kcal/capita/day</td>\n",
       "      <td>3377.00</td>\n",
       "      <td>3379.00</td>\n",
       "      <td>3372.00</td>\n",
       "      <td>3341.00</td>\n",
       "      <td>3322.00</td>\n",
       "    </tr>\n",
       "    <tr>\n",
       "      <th>3</th>\n",
       "      <td>4</td>\n",
       "      <td>Algeria</td>\n",
       "      <td>2901</td>\n",
       "      <td>Grand Total</td>\n",
       "      <td>674</td>\n",
       "      <td>Protein supply quantity (g/capita/day)</td>\n",
       "      <td>g/capita/day</td>\n",
       "      <td>94.90</td>\n",
       "      <td>94.35</td>\n",
       "      <td>94.72</td>\n",
       "      <td>92.82</td>\n",
       "      <td>91.83</td>\n",
       "    </tr>\n",
       "    <tr>\n",
       "      <th>4</th>\n",
       "      <td>4</td>\n",
       "      <td>Algeria</td>\n",
       "      <td>2901</td>\n",
       "      <td>Grand Total</td>\n",
       "      <td>684</td>\n",
       "      <td>Fat supply quantity (g/capita/day)</td>\n",
       "      <td>g/capita/day</td>\n",
       "      <td>80.06</td>\n",
       "      <td>79.36</td>\n",
       "      <td>77.40</td>\n",
       "      <td>80.19</td>\n",
       "      <td>77.28</td>\n",
       "    </tr>\n",
       "  </tbody>\n",
       "</table>\n",
       "</div>"
      ],
      "text/plain": [
       "   Area Code     Area  Item Code         Item  Element Code  \\\n",
       "0          4  Algeria       2501   Population           511   \n",
       "1          4  Algeria       2501   Population          5301   \n",
       "2          4  Algeria       2901  Grand Total           664   \n",
       "3          4  Algeria       2901  Grand Total           674   \n",
       "4          4  Algeria       2901  Grand Total           684   \n",
       "\n",
       "                                  Element             Unit     Y2014  \\\n",
       "0           Total Population - Both sexes     1000 persons  38924.00   \n",
       "1                Domestic supply quantity      1000 tonnes      0.00   \n",
       "2           Food supply (kcal/capita/day)  kcal/capita/day   3377.00   \n",
       "3  Protein supply quantity (g/capita/day)     g/capita/day     94.90   \n",
       "4      Fat supply quantity (g/capita/day)     g/capita/day     80.06   \n",
       "\n",
       "      Y2015     Y2016     Y2017     Y2018  \n",
       "0  39728.00  40551.00  41389.00  42228.00  \n",
       "1      0.00      0.00      0.00      0.00  \n",
       "2   3379.00   3372.00   3341.00   3322.00  \n",
       "3     94.35     94.72     92.82     91.83  \n",
       "4     79.36     77.40     80.19     77.28  "
      ]
     },
     "execution_count": 16,
     "metadata": {},
     "output_type": "execute_result"
    }
   ],
   "source": [
    "#Load the dataset, use encoding 'latin-1' to appropriately load the dataset\n",
    "df=pd.read_csv('FBS.csv',encoding='latin-1')\n",
    "df.head()"
   ]
  },
  {
   "cell_type": "code",
   "execution_count": 17,
   "id": "3cbea3c9",
   "metadata": {},
   "outputs": [
    {
     "data": {
      "text/plain": [
       "(60943, 12)"
      ]
     },
     "execution_count": 17,
     "metadata": {},
     "output_type": "execute_result"
    }
   ],
   "source": [
    "df.shape"
   ]
  },
  {
   "cell_type": "markdown",
   "id": "4c73de63",
   "metadata": {},
   "source": [
    "### Q1:\n",
    "What is the total number and percentage of missing data in 2014 to 3 decimal places?"
   ]
  },
  {
   "cell_type": "code",
   "execution_count": 128,
   "id": "6cd3a875",
   "metadata": {},
   "outputs": [
    {
     "name": "stdout",
     "output_type": "stream",
     "text": [
      "percentage of missing data in 2014= 2.607%\n",
      "number of missing data in 2014= 1589\n"
     ]
    }
   ],
   "source": [
    "missing_2014=df['Y2014'].isna().sum()\n",
    "\n",
    "pct_missing=((missing_2014/len(df))*100).round(3)\n",
    "\n",
    "print(f'percentage of missing data in 2014= {pct_missing}%')\n",
    "print(f'number of missing data in 2014= {missing_2014}')"
   ]
  },
  {
   "cell_type": "markdown",
   "id": "57d7e708",
   "metadata": {},
   "source": [
    "### Q2\n",
    "Select columns ‘Y2017’ and ‘Area’, Perform a groupby operation on ‘Area’.  \n",
    "Which of these Areas had the highest sum in 2017?"
   ]
  },
  {
   "cell_type": "code",
   "execution_count": 82,
   "id": "d4b7f382",
   "metadata": {},
   "outputs": [
    {
     "data": {
      "text/plain": [
       "'Nigeria'"
      ]
     },
     "execution_count": 82,
     "metadata": {},
     "output_type": "execute_result"
    }
   ],
   "source": [
    "selected_cols=df[['Y2017','Area']]\n",
    "\n",
    "#we can get the maximum in 2 ways, first using the idxmax() method\n",
    "selected_cols.groupby('Area')['Y2017'].sum().idxmax()"
   ]
  },
  {
   "cell_type": "code",
   "execution_count": 84,
   "id": "bed5ca14",
   "metadata": {},
   "outputs": [
    {
     "data": {
      "text/plain": [
       "Area\n",
       "Nigeria         1483268.23\n",
       "Egypt            866379.92\n",
       "South Africa     517590.54\n",
       "Ethiopia         448683.76\n",
       "Morocco          388495.36\n",
       "Name: Y2017, dtype: float64"
      ]
     },
     "execution_count": 84,
     "metadata": {},
     "output_type": "execute_result"
    }
   ],
   "source": [
    "#or just sort the values and select the first row\n",
    "selected_cols.groupby('Area')['Y2017'].sum().sort_values(ascending=False).head(5)"
   ]
  },
  {
   "cell_type": "markdown",
   "id": "01c3c2e9",
   "metadata": {},
   "source": [
    "### Q3\n",
    "Select columns ‘Y2017’ and ‘Area’, Perform a groupby operation on ‘Area’.  \n",
    "Which of these Areas had the 7th lowest sum in 2017?"
   ]
  },
  {
   "cell_type": "code",
   "execution_count": 97,
   "id": "213e4dba",
   "metadata": {},
   "outputs": [
    {
     "data": {
      "text/plain": [
       "Area\n",
       "Sudan (former)               0.00\n",
       "Ethiopia PDR                 0.00\n",
       "Comoros                     59.84\n",
       "Seychelles                 442.34\n",
       "Sao Tome and Principe    12662.63\n",
       "Cabo Verde               14650.74\n",
       "Guinea-Bissau            19102.77\n",
       "Name: Y2017, dtype: float64"
      ]
     },
     "execution_count": 97,
     "metadata": {},
     "output_type": "execute_result"
    }
   ],
   "source": [
    "selected_cols2=df[['Y2017','Area']]\n",
    "\n",
    "#we can do this by taking the 7th row in the series or also using the idxmax() as well\n",
    "selected_cols2.groupby('Area')['Y2017'].sum().sort_values().head(7)"
   ]
  },
  {
   "cell_type": "code",
   "execution_count": 129,
   "id": "ec1a8dfd",
   "metadata": {},
   "outputs": [
    {
     "data": {
      "text/plain": [
       "'Guinea-Bissau'"
      ]
     },
     "execution_count": 129,
     "metadata": {},
     "output_type": "execute_result"
    }
   ],
   "source": [
    "#using idxmax()\n",
    "selected_cols2.groupby('Area')['Y2017'].sum().sort_values().head(7).idxmax()"
   ]
  },
  {
   "cell_type": "markdown",
   "id": "383a6c8e",
   "metadata": {},
   "source": [
    "### Q4 \n",
    "Which year had the least correlation with ‘Element Code’?"
   ]
  },
  {
   "cell_type": "code",
   "execution_count": 133,
   "id": "b14f1e2c",
   "metadata": {
    "scrolled": true
   },
   "outputs": [
    {
     "data": {
      "text/html": [
       "<div>\n",
       "<style scoped>\n",
       "    .dataframe tbody tr th:only-of-type {\n",
       "        vertical-align: middle;\n",
       "    }\n",
       "\n",
       "    .dataframe tbody tr th {\n",
       "        vertical-align: top;\n",
       "    }\n",
       "\n",
       "    .dataframe thead th {\n",
       "        text-align: right;\n",
       "    }\n",
       "</style>\n",
       "<table border=\"1\" class=\"dataframe\">\n",
       "  <thead>\n",
       "    <tr style=\"text-align: right;\">\n",
       "      <th></th>\n",
       "      <th>Y2014</th>\n",
       "      <th>Y2015</th>\n",
       "      <th>Y2016</th>\n",
       "      <th>Y2017</th>\n",
       "      <th>Y2018</th>\n",
       "      <th>Element Code</th>\n",
       "    </tr>\n",
       "  </thead>\n",
       "  <tbody>\n",
       "    <tr>\n",
       "      <th>Y2014</th>\n",
       "      <td>1.000000</td>\n",
       "      <td>0.994647</td>\n",
       "      <td>0.996081</td>\n",
       "      <td>0.995230</td>\n",
       "      <td>0.994872</td>\n",
       "      <td>0.024457</td>\n",
       "    </tr>\n",
       "    <tr>\n",
       "      <th>Y2015</th>\n",
       "      <td>0.994647</td>\n",
       "      <td>1.000000</td>\n",
       "      <td>0.995739</td>\n",
       "      <td>0.988048</td>\n",
       "      <td>0.988208</td>\n",
       "      <td>0.023889</td>\n",
       "    </tr>\n",
       "    <tr>\n",
       "      <th>Y2016</th>\n",
       "      <td>0.996081</td>\n",
       "      <td>0.995739</td>\n",
       "      <td>1.000000</td>\n",
       "      <td>0.992785</td>\n",
       "      <td>0.992757</td>\n",
       "      <td>0.023444</td>\n",
       "    </tr>\n",
       "    <tr>\n",
       "      <th>Y2017</th>\n",
       "      <td>0.995230</td>\n",
       "      <td>0.988048</td>\n",
       "      <td>0.992785</td>\n",
       "      <td>1.000000</td>\n",
       "      <td>0.998103</td>\n",
       "      <td>0.024254</td>\n",
       "    </tr>\n",
       "    <tr>\n",
       "      <th>Y2018</th>\n",
       "      <td>0.994872</td>\n",
       "      <td>0.988208</td>\n",
       "      <td>0.992757</td>\n",
       "      <td>0.998103</td>\n",
       "      <td>1.000000</td>\n",
       "      <td>0.024279</td>\n",
       "    </tr>\n",
       "    <tr>\n",
       "      <th>Element Code</th>\n",
       "      <td>0.024457</td>\n",
       "      <td>0.023889</td>\n",
       "      <td>0.023444</td>\n",
       "      <td>0.024254</td>\n",
       "      <td>0.024279</td>\n",
       "      <td>1.000000</td>\n",
       "    </tr>\n",
       "  </tbody>\n",
       "</table>\n",
       "</div>"
      ],
      "text/plain": [
       "                 Y2014     Y2015     Y2016     Y2017     Y2018  Element Code\n",
       "Y2014         1.000000  0.994647  0.996081  0.995230  0.994872      0.024457\n",
       "Y2015         0.994647  1.000000  0.995739  0.988048  0.988208      0.023889\n",
       "Y2016         0.996081  0.995739  1.000000  0.992785  0.992757      0.023444\n",
       "Y2017         0.995230  0.988048  0.992785  1.000000  0.998103      0.024254\n",
       "Y2018         0.994872  0.988208  0.992757  0.998103  1.000000      0.024279\n",
       "Element Code  0.024457  0.023889  0.023444  0.024254  0.024279      1.000000"
      ]
     },
     "execution_count": 133,
     "metadata": {},
     "output_type": "execute_result"
    }
   ],
   "source": [
    "#We are only interested in 'Year' and Element Code\n",
    "columns=['Y2014', 'Y2015', 'Y2016', 'Y2017', 'Y2018','Element Code']\n",
    "\n",
    "#find the correlation between them\n",
    "\n",
    "corr=df[columns].corr()\n",
    "corr"
   ]
  },
  {
   "cell_type": "code",
   "execution_count": 134,
   "id": "a9ab2e4e",
   "metadata": {},
   "outputs": [
    {
     "data": {
      "text/plain": [
       "'Y2016'"
      ]
     },
     "execution_count": 134,
     "metadata": {},
     "output_type": "execute_result"
    }
   ],
   "source": [
    "#we are interested in the least correlation in the 'Element Code' field.\n",
    "#to get this index, we use idxmin()\n",
    "corr['Element Code'].idxmin()"
   ]
  },
  {
   "cell_type": "markdown",
   "id": "f46f0b9e",
   "metadata": {},
   "source": [
    "### Q5\n",
    "Perform a groupby operation on ‘Element’.  What year has the highest sum of Stock Variation?"
   ]
  },
  {
   "cell_type": "code",
   "execution_count": 109,
   "id": "90752be4",
   "metadata": {},
   "outputs": [
    {
     "name": "stdout",
     "output_type": "stream",
     "text": [
      "Index(['Y2014', 'Y2015', 'Y2016', 'Y2017', 'Y2018'], dtype='object')\n"
     ]
    },
    {
     "data": {
      "text/html": [
       "<div>\n",
       "<style scoped>\n",
       "    .dataframe tbody tr th:only-of-type {\n",
       "        vertical-align: middle;\n",
       "    }\n",
       "\n",
       "    .dataframe tbody tr th {\n",
       "        vertical-align: top;\n",
       "    }\n",
       "\n",
       "    .dataframe thead th {\n",
       "        text-align: right;\n",
       "    }\n",
       "</style>\n",
       "<table border=\"1\" class=\"dataframe\">\n",
       "  <thead>\n",
       "    <tr style=\"text-align: right;\">\n",
       "      <th></th>\n",
       "      <th>Y2014</th>\n",
       "      <th>Y2015</th>\n",
       "      <th>Y2016</th>\n",
       "      <th>Y2017</th>\n",
       "      <th>Y2018</th>\n",
       "    </tr>\n",
       "    <tr>\n",
       "      <th>Element</th>\n",
       "      <th></th>\n",
       "      <th></th>\n",
       "      <th></th>\n",
       "      <th></th>\n",
       "      <th></th>\n",
       "    </tr>\n",
       "  </thead>\n",
       "  <tbody>\n",
       "    <tr>\n",
       "      <th>Domestic supply quantity</th>\n",
       "      <td>1996716.35</td>\n",
       "      <td>2021493.55</td>\n",
       "      <td>2044842.70</td>\n",
       "      <td>2088198.10</td>\n",
       "      <td>2161192.10</td>\n",
       "    </tr>\n",
       "    <tr>\n",
       "      <th>Export Quantity</th>\n",
       "      <td>150020.64</td>\n",
       "      <td>157614.47</td>\n",
       "      <td>151920.46</td>\n",
       "      <td>182338.80</td>\n",
       "      <td>181594.80</td>\n",
       "    </tr>\n",
       "    <tr>\n",
       "      <th>Fat supply quantity (g/capita/day)</th>\n",
       "      <td>10225.56</td>\n",
       "      <td>10235.74</td>\n",
       "      <td>10102.77</td>\n",
       "      <td>10253.84</td>\n",
       "      <td>10258.69</td>\n",
       "    </tr>\n",
       "    <tr>\n",
       "      <th>Feed</th>\n",
       "      <td>216927.89</td>\n",
       "      <td>225050.22</td>\n",
       "      <td>228958.65</td>\n",
       "      <td>223705.68</td>\n",
       "      <td>233489.68</td>\n",
       "    </tr>\n",
       "    <tr>\n",
       "      <th>Food</th>\n",
       "      <td>1212332.49</td>\n",
       "      <td>1232361.10</td>\n",
       "      <td>1247022.17</td>\n",
       "      <td>1258888.28</td>\n",
       "      <td>1303841.28</td>\n",
       "    </tr>\n",
       "    <tr>\n",
       "      <th>Food supply (kcal/capita/day)</th>\n",
       "      <td>454257.00</td>\n",
       "      <td>453383.00</td>\n",
       "      <td>451810.00</td>\n",
       "      <td>454681.00</td>\n",
       "      <td>455261.00</td>\n",
       "    </tr>\n",
       "    <tr>\n",
       "      <th>Food supply quantity (kg/capita/yr)</th>\n",
       "      <td>49650.63</td>\n",
       "      <td>49345.13</td>\n",
       "      <td>48985.28</td>\n",
       "      <td>48690.04</td>\n",
       "      <td>49056.85</td>\n",
       "    </tr>\n",
       "    <tr>\n",
       "      <th>Import Quantity</th>\n",
       "      <td>274144.48</td>\n",
       "      <td>267018.46</td>\n",
       "      <td>286582.78</td>\n",
       "      <td>294559.09</td>\n",
       "      <td>287997.09</td>\n",
       "    </tr>\n",
       "    <tr>\n",
       "      <th>Losses</th>\n",
       "      <td>153223.00</td>\n",
       "      <td>155439.00</td>\n",
       "      <td>157787.00</td>\n",
       "      <td>160614.00</td>\n",
       "      <td>163902.00</td>\n",
       "    </tr>\n",
       "    <tr>\n",
       "      <th>Other uses (non-food)</th>\n",
       "      <td>78718.13</td>\n",
       "      <td>66254.41</td>\n",
       "      <td>69563.68</td>\n",
       "      <td>91645.97</td>\n",
       "      <td>91300.97</td>\n",
       "    </tr>\n",
       "    <tr>\n",
       "      <th>Processing</th>\n",
       "      <td>282923.00</td>\n",
       "      <td>287929.00</td>\n",
       "      <td>280631.00</td>\n",
       "      <td>292836.00</td>\n",
       "      <td>308429.00</td>\n",
       "    </tr>\n",
       "    <tr>\n",
       "      <th>Production</th>\n",
       "      <td>1931287.75</td>\n",
       "      <td>1947019.39</td>\n",
       "      <td>1943537.15</td>\n",
       "      <td>2030056.89</td>\n",
       "      <td>2075072.89</td>\n",
       "    </tr>\n",
       "    <tr>\n",
       "      <th>Protein supply quantity (g/capita/day)</th>\n",
       "      <td>11836.46</td>\n",
       "      <td>11833.95</td>\n",
       "      <td>11779.69</td>\n",
       "      <td>11842.45</td>\n",
       "      <td>11833.56</td>\n",
       "    </tr>\n",
       "    <tr>\n",
       "      <th>Residuals</th>\n",
       "      <td>30149.00</td>\n",
       "      <td>30045.00</td>\n",
       "      <td>37224.00</td>\n",
       "      <td>35500.00</td>\n",
       "      <td>34864.00</td>\n",
       "    </tr>\n",
       "    <tr>\n",
       "      <th>Seed</th>\n",
       "      <td>21922.92</td>\n",
       "      <td>23976.82</td>\n",
       "      <td>23389.20</td>\n",
       "      <td>24870.14</td>\n",
       "      <td>25263.14</td>\n",
       "    </tr>\n",
       "    <tr>\n",
       "      <th>Stock Variation</th>\n",
       "      <td>58749.83</td>\n",
       "      <td>34910.99</td>\n",
       "      <td>33140.12</td>\n",
       "      <td>54316.91</td>\n",
       "      <td>20577.91</td>\n",
       "    </tr>\n",
       "    <tr>\n",
       "      <th>Total Population - Both sexes</th>\n",
       "      <td>1031585.00</td>\n",
       "      <td>1058081.00</td>\n",
       "      <td>1085107.00</td>\n",
       "      <td>1112641.00</td>\n",
       "      <td>1140605.00</td>\n",
       "    </tr>\n",
       "    <tr>\n",
       "      <th>Tourist consumption</th>\n",
       "      <td>416.00</td>\n",
       "      <td>349.00</td>\n",
       "      <td>89.00</td>\n",
       "      <td>91.00</td>\n",
       "      <td>90.00</td>\n",
       "    </tr>\n",
       "  </tbody>\n",
       "</table>\n",
       "</div>"
      ],
      "text/plain": [
       "                                             Y2014       Y2015       Y2016  \\\n",
       "Element                                                                      \n",
       "Domestic supply quantity                1996716.35  2021493.55  2044842.70   \n",
       "Export Quantity                          150020.64   157614.47   151920.46   \n",
       "Fat supply quantity (g/capita/day)        10225.56    10235.74    10102.77   \n",
       "Feed                                     216927.89   225050.22   228958.65   \n",
       "Food                                    1212332.49  1232361.10  1247022.17   \n",
       "Food supply (kcal/capita/day)            454257.00   453383.00   451810.00   \n",
       "Food supply quantity (kg/capita/yr)       49650.63    49345.13    48985.28   \n",
       "Import Quantity                          274144.48   267018.46   286582.78   \n",
       "Losses                                   153223.00   155439.00   157787.00   \n",
       "Other uses (non-food)                     78718.13    66254.41    69563.68   \n",
       "Processing                               282923.00   287929.00   280631.00   \n",
       "Production                              1931287.75  1947019.39  1943537.15   \n",
       "Protein supply quantity (g/capita/day)    11836.46    11833.95    11779.69   \n",
       "Residuals                                 30149.00    30045.00    37224.00   \n",
       "Seed                                      21922.92    23976.82    23389.20   \n",
       "Stock Variation                           58749.83    34910.99    33140.12   \n",
       "Total Population - Both sexes           1031585.00  1058081.00  1085107.00   \n",
       "Tourist consumption                         416.00      349.00       89.00   \n",
       "\n",
       "                                             Y2017       Y2018  \n",
       "Element                                                         \n",
       "Domestic supply quantity                2088198.10  2161192.10  \n",
       "Export Quantity                          182338.80   181594.80  \n",
       "Fat supply quantity (g/capita/day)        10253.84    10258.69  \n",
       "Feed                                     223705.68   233489.68  \n",
       "Food                                    1258888.28  1303841.28  \n",
       "Food supply (kcal/capita/day)            454681.00   455261.00  \n",
       "Food supply quantity (kg/capita/yr)       48690.04    49056.85  \n",
       "Import Quantity                          294559.09   287997.09  \n",
       "Losses                                   160614.00   163902.00  \n",
       "Other uses (non-food)                     91645.97    91300.97  \n",
       "Processing                               292836.00   308429.00  \n",
       "Production                              2030056.89  2075072.89  \n",
       "Protein supply quantity (g/capita/day)    11842.45    11833.56  \n",
       "Residuals                                 35500.00    34864.00  \n",
       "Seed                                      24870.14    25263.14  \n",
       "Stock Variation                           54316.91    20577.91  \n",
       "Total Population - Both sexes           1112641.00  1140605.00  \n",
       "Tourist consumption                          91.00       90.00  "
      ]
     },
     "execution_count": 109,
     "metadata": {},
     "output_type": "execute_result"
    }
   ],
   "source": [
    "#since we are interested in the years and the datatype contained are floats, we can select these columns and assign\n",
    "#them to a variable\n",
    "cols=df.select_dtypes('float').columns\n",
    "print(cols)\n",
    "\n",
    "#groupby Element and find the sum of each of the years\n",
    "df.groupby('Element')[cols].sum()"
   ]
  },
  {
   "cell_type": "code",
   "execution_count": 111,
   "id": "fe157514",
   "metadata": {},
   "outputs": [
    {
     "data": {
      "text/plain": [
       "Y2014    58749.83\n",
       "Y2015    34910.99\n",
       "Y2016    33140.12\n",
       "Y2017    54316.91\n",
       "Y2018    20577.91\n",
       "Name: Stock Variation, dtype: float64"
      ]
     },
     "execution_count": 111,
     "metadata": {},
     "output_type": "execute_result"
    }
   ],
   "source": [
    "#but we are interested in 'Stock Variation' among the elements. 'Stock Variation' is in the index, we can access this\n",
    "#using loc.\n",
    "df.groupby('Element')[cols].sum().loc['Stock Variation',:]"
   ]
  },
  {
   "cell_type": "code",
   "execution_count": 112,
   "id": "98d53f3e",
   "metadata": {},
   "outputs": [
    {
     "data": {
      "text/plain": [
       "'Y2014'"
      ]
     },
     "execution_count": 112,
     "metadata": {},
     "output_type": "execute_result"
    }
   ],
   "source": [
    "#to get the maximum, we can sort the series or we can just use idxmax(), it returns the maximum index instead\n",
    "#of the value\n",
    "df.groupby('Element')[cols].sum().loc['Stock Variation',:].idxmax()"
   ]
  },
  {
   "cell_type": "markdown",
   "id": "0eab36e5",
   "metadata": {},
   "source": [
    "### Q6\n",
    "Perform a groupby operation on ‘Element’.  What is the total number of the sum of Processing in 2017?"
   ]
  },
  {
   "cell_type": "code",
   "execution_count": 115,
   "id": "27ca3c5e",
   "metadata": {},
   "outputs": [
    {
     "data": {
      "text/plain": [
       "Element\n",
       "Domestic supply quantity                  2088198.10\n",
       "Export Quantity                            182338.80\n",
       "Fat supply quantity (g/capita/day)          10253.84\n",
       "Feed                                       223705.68\n",
       "Food                                      1258888.28\n",
       "Food supply (kcal/capita/day)              454681.00\n",
       "Food supply quantity (kg/capita/yr)         48690.04\n",
       "Import Quantity                            294559.09\n",
       "Losses                                     160614.00\n",
       "Other uses (non-food)                       91645.97\n",
       "Processing                                 292836.00\n",
       "Production                                2030056.89\n",
       "Protein supply quantity (g/capita/day)      11842.45\n",
       "Residuals                                   35500.00\n",
       "Seed                                        24870.14\n",
       "Stock Variation                             54316.91\n",
       "Total Population - Both sexes             1112641.00\n",
       "Tourist consumption                            91.00\n",
       "Name: Y2017, dtype: float64"
      ]
     },
     "execution_count": 115,
     "metadata": {},
     "output_type": "execute_result"
    }
   ],
   "source": [
    "df.groupby('Element')['Y2017'].sum()"
   ]
  },
  {
   "cell_type": "code",
   "execution_count": 117,
   "id": "402d6569",
   "metadata": {},
   "outputs": [
    {
     "data": {
      "text/plain": [
       "292836.0"
      ]
     },
     "execution_count": 117,
     "metadata": {},
     "output_type": "execute_result"
    }
   ],
   "source": [
    "#to access the index 'Processing', we can use loc\n",
    "df.groupby('Element')['Y2017'].sum().loc['Processing']\n"
   ]
  },
  {
   "cell_type": "markdown",
   "id": "674de2c6",
   "metadata": {},
   "source": [
    "### Q7\n",
    "What is the total number of unique countries in the dataset?"
   ]
  },
  {
   "cell_type": "code",
   "execution_count": 118,
   "id": "0df5fce2",
   "metadata": {},
   "outputs": [
    {
     "data": {
      "text/plain": [
       "49"
      ]
     },
     "execution_count": 118,
     "metadata": {},
     "output_type": "execute_result"
    }
   ],
   "source": [
    "df['Area'].nunique()"
   ]
  },
  {
   "cell_type": "markdown",
   "id": "b63a8882",
   "metadata": {},
   "source": [
    "### Q8\n",
    "What is the mean and standard deviation across the whole dataset for the year 2017 to 2 decimal places?"
   ]
  },
  {
   "cell_type": "code",
   "execution_count": 119,
   "id": "9b97d0f0",
   "metadata": {},
   "outputs": [
    {
     "name": "stdout",
     "output_type": "stream",
     "text": [
      "standard deviation= 1671.86\n",
      "mean= 140.92\n"
     ]
    }
   ],
   "source": [
    "print(f\"standard deviation= {round(df['Y2017'].std(),2)}\")\n",
    "print(f\"mean= {round(df['Y2017'].mean(),2)}\")"
   ]
  },
  {
   "cell_type": "markdown",
   "id": "dd518d91",
   "metadata": {},
   "source": [
    "### Q9\n",
    "What is the total Protein supply quantity in Madagascar in 2015?"
   ]
  },
  {
   "cell_type": "code",
   "execution_count": 124,
   "id": "8de0e87a",
   "metadata": {},
   "outputs": [
    {
     "data": {
      "text/plain": [
       "173.05"
      ]
     },
     "execution_count": 124,
     "metadata": {},
     "output_type": "execute_result"
    }
   ],
   "source": [
    "#we can filter the dataset to get data for only Madagascar\n",
    "df_madagascar=df[df['Area']=='Madagascar']\n",
    "\n",
    "#we are interested in 'Protein supply quantity (g/capita/day)' in 2015. \n",
    "#This is stored as a variable in the column 'Element'\n",
    "\n",
    "df_madagascar_protein=df_madagascar[df_madagascar['Element']=='Protein supply quantity (g/capita/day)']['Y2015']\n",
    "\n",
    "round(df_madagascar_protein.sum(),2)"
   ]
  },
  {
   "cell_type": "markdown",
   "id": "05862a1d",
   "metadata": {},
   "source": [
    "### Q10\n",
    "What is the total sum of Wine produced in 2015 and 2018 respectively?"
   ]
  },
  {
   "cell_type": "code",
   "execution_count": 126,
   "id": "84527a78",
   "metadata": {},
   "outputs": [
    {
     "data": {
      "text/plain": [
       "Y2015    4251.81\n",
       "Y2018    4039.32\n",
       "Name: Wine, dtype: float64"
      ]
     },
     "execution_count": 126,
     "metadata": {},
     "output_type": "execute_result"
    }
   ],
   "source": [
    "#the variable 'Wine' is stored in the Item column\n",
    "\n",
    "#we can follow a systematic process just like we did in question 8 or just write a single line of code to get \n",
    "#the answer\n",
    "\n",
    "df.groupby('Item')[['Y2015','Y2018']].sum().loc['Wine']"
   ]
  }
 ],
 "metadata": {
  "kernelspec": {
   "display_name": "Python 3 (ipykernel)",
   "language": "python",
   "name": "python3"
  },
  "language_info": {
   "codemirror_mode": {
    "name": "ipython",
    "version": 3
   },
   "file_extension": ".py",
   "mimetype": "text/x-python",
   "name": "python",
   "nbconvert_exporter": "python",
   "pygments_lexer": "ipython3",
   "version": "3.9.13"
  }
 },
 "nbformat": 4,
 "nbformat_minor": 5
}
